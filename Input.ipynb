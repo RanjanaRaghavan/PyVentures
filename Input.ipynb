{
  "nbformat": 4,
  "nbformat_minor": 0,
  "metadata": {
    "colab": {
      "provenance": [],
      "authorship_tag": "ABX9TyPJMJ42EQoLeXWdhTMDlqQu",
      "include_colab_link": true
    },
    "kernelspec": {
      "name": "python3",
      "display_name": "Python 3"
    },
    "language_info": {
      "name": "python"
    }
  },
  "cells": [
    {
      "cell_type": "markdown",
      "metadata": {
        "id": "view-in-github",
        "colab_type": "text"
      },
      "source": [
        "<a href=\"https://colab.research.google.com/github/RanjanaRaghavan/PyVentures/blob/main/Input.ipynb\" target=\"_parent\"><img src=\"https://colab.research.google.com/assets/colab-badge.svg\" alt=\"Open In Colab\"/></a>"
      ]
    },
    {
      "cell_type": "markdown",
      "source": [
        "What's Your Name and Age? 🤔🎉\n",
        "In this program, I take a step further into Python by interacting with the user! This script asks for a name and age, then adds a touch of personalization by counting the letters in the name and calculating the user's age for next year. A small yet meaningful step toward building more interactive applications! 🚀🐍"
      ],
      "metadata": {
        "id": "YFIJEcTY4Wrc"
      }
    },
    {
      "cell_type": "code",
      "execution_count": 4,
      "metadata": {
        "colab": {
          "base_uri": "https://localhost:8080/"
        },
        "id": "EBkm6pSC2oEQ",
        "outputId": "bb178bd4-2d8a-4609-8237-7b1e1df67da7"
      },
      "outputs": [
        {
          "output_type": "stream",
          "name": "stdout",
          "text": [
            "Hi what is your name?\n",
            "Ranju\n",
            "What is your age?\n",
            "26\n",
            "It is good to meet you Ranju . Your name has  5  letters. You will be  27  next year.\n"
          ]
        }
      ],
      "source": [
        "#This program asks for my name and age.\n",
        "\n",
        "print('Hi what is your name?')\n",
        "myName = input()\n",
        "print('What is your age?')\n",
        "myAge = input()\n",
        "print('It is good to meet you' , myName , '. Your name has ' , str(len(myName)) ,' letters. You will be ', str((int(myAge) +1)) , ' next year.')"
      ]
    }
  ]
}