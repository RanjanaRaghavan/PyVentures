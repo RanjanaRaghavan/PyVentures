{
  "nbformat": 4,
  "nbformat_minor": 0,
  "metadata": {
    "colab": {
      "provenance": [],
      "authorship_tag": "ABX9TyP+32yNqOMbwj2gJsWaKA2W",
      "include_colab_link": true
    },
    "kernelspec": {
      "name": "python3",
      "display_name": "Python 3"
    },
    "language_info": {
      "name": "python"
    }
  },
  "cells": [
    {
      "cell_type": "markdown",
      "metadata": {
        "id": "view-in-github",
        "colab_type": "text"
      },
      "source": [
        "<a href=\"https://colab.research.google.com/github/RanjanaRaghavan/PyVentures/blob/main/builtInFunctions.ipynb\" target=\"_parent\"><img src=\"https://colab.research.google.com/assets/colab-badge.svg\" alt=\"Open In Colab\"/></a>"
      ]
    },
    {
      "cell_type": "markdown",
      "source": [
        "Welcome to the Squid Games! 🦑💖\n",
        "\n",
        "In this script, I dive into random number generation and control flow with a Squid Game twist! Players are randomly chosen (with a touch of suspense), and only player 456 gets the special welcome. The script adds a dramatic moment with \"Mugunghwa Kkoci Pieot Seumnida\" before gracefully exiting. It's a fun and interactive way to practice loops, conditionals, and using sys.exit() in Python. Let the games begin in pink style! 💖🚀🐍\n",
        "\n"
      ],
      "metadata": {
        "id": "J3eQOTPnKrXi"
      }
    },
    {
      "cell_type": "code",
      "execution_count": 5,
      "metadata": {
        "colab": {
          "base_uri": "https://localhost:8080/"
        },
        "id": "CVnvDb5sHSJn",
        "outputId": "c1d00b23-ee4f-40cd-c6ca-dca7b7700006"
      },
      "outputs": [
        {
          "output_type": "stream",
          "name": "stdout",
          "text": [
            "This is the Squid Games!!!\n",
            "Hi player 452\n",
            "Hi player 457\n",
            "Hi player 452\n",
            "Hi player 457\n",
            "Hi player 450\n",
            "Hi player 450\n",
            "Hi player 455\n",
            "Hi player 452\n",
            "Welcome back player 456!!!\n"
          ]
        }
      ],
      "source": [
        "import random\n",
        "\n",
        "print(\"This is the Squid Games!!!\")\n",
        "player = 0\n",
        "while player != 456:\n",
        "  player = random.randint(450,457)\n",
        "\n",
        "  if(player == 456):\n",
        "    print(\"Welcome back player 456!!!\")\n",
        "    break\n",
        "  else:\n",
        "    print('Hi player',player)\n"
      ]
    },
    {
      "cell_type": "code",
      "source": [
        "import sys\n",
        "\n",
        "print('Mugunghwa Kkoci Pieot Seumnida')\n",
        "sys.exit()\n",
        "print('Red Light! Green Light!')"
      ],
      "metadata": {
        "colab": {
          "base_uri": "https://localhost:8080/",
          "height": 108
        },
        "id": "1m8kZ2RbKEiU",
        "outputId": "bd797dd8-82bf-4e5d-d4df-77a2ab91afd1"
      },
      "execution_count": 8,
      "outputs": [
        {
          "output_type": "stream",
          "name": "stdout",
          "text": [
            "Mugunghwa Kkoci Pieot Seumnida\n"
          ]
        },
        {
          "output_type": "error",
          "ename": "SystemExit",
          "evalue": "",
          "traceback": [
            "An exception has occurred, use %tb to see the full traceback.\n",
            "\u001b[0;31mSystemExit\u001b[0m\n"
          ]
        }
      ]
    },
    {
      "cell_type": "markdown",
      "source": [
        "Note : Colab Environment: Google Colab runs your code in a managed environment, and sys.exit() attempts to terminate the entire Python process. This isn't allowed in Colab as it would disrupt the notebook environment."
      ],
      "metadata": {
        "id": "49oLQnFTKlav"
      }
    }
  ]
}
