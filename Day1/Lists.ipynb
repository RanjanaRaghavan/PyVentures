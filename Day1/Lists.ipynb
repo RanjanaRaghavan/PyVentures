{
  "nbformat": 4,
  "nbformat_minor": 0,
  "metadata": {
    "colab": {
      "provenance": [],
      "authorship_tag": "ABX9TyNGEbXi4GG3ZCUClghsnJHa",
      "include_colab_link": true
    },
    "kernelspec": {
      "name": "python3",
      "display_name": "Python 3"
    },
    "language_info": {
      "name": "python"
    }
  },
  "cells": [
    {
      "cell_type": "markdown",
      "metadata": {
        "id": "view-in-github",
        "colab_type": "text"
      },
      "source": [
        "<a href=\"https://colab.research.google.com/github/RanjanaRaghavan/PyVentures/blob/main/Day1/Lists.ipynb\" target=\"_parent\"><img src=\"https://colab.research.google.com/assets/colab-badge.svg\" alt=\"Open In Colab\"/></a>"
      ]
    },
    {
      "cell_type": "markdown",
      "source": [
        "# Exploring Lists and Beyond: Python's Collection of Tricks! 🐍📚🎉\n",
        "\n",
        "In this script, I journey through lists with a mix of creativity and practical techniques. Starting with the lineup of One Direction members, I explore list operations like adding, removing, and accessing elements. Then, I unpack a dog's traits, swap variables like magic 🎩✨, and work with vowels to showcase appending, inserting, and removing items.\n",
        "\n",
        "Sorting takes center stage with numeric and ASCII-based tricks, showing the difference between default and str.lower sorting. Finally, I dive into the fascinating world of shallow and deep copies, highlighting how changes in one list affect others. A fun way to explore Python's versatile list features! 🎵📜🐶"
      ],
      "metadata": {
        "id": "Hpge65oh-N_l"
      }
    },
    {
      "cell_type": "code",
      "execution_count": 5,
      "metadata": {
        "colab": {
          "base_uri": "https://localhost:8080/"
        },
        "id": "rPalTOcEvHrd",
        "outputId": "385cae89-4fc5-4128-d4c4-699eb1018792"
      },
      "outputs": [
        {
          "output_type": "stream",
          "name": "stdout",
          "text": [
            "['Liam', 'Zayn', 'Harry', 'Louis', 'Niall']\n",
            "5\n",
            "['Liam', 'Harry', 'Louis', 'Niall']\n",
            "4\n",
            "Hi, this is \n",
            "Liam\n",
            "Harry\n",
            "Louis\n",
            "Niall\n",
            "And we are one direction.\n"
          ]
        }
      ],
      "source": [
        "oneDirectionMembers = ['Liam' , 'Zayn', 'Harry', 'Louis', 'Niall']\n",
        "print(oneDirectionMembers)\n",
        "print(len(oneDirectionMembers))\n",
        "\n",
        "del oneDirectionMembers[1]\n",
        "print(oneDirectionMembers)\n",
        "print(len(oneDirectionMembers))\n",
        "\n",
        "print('Hi, this is ')\n",
        "for i in range(len(oneDirectionMembers)):\n",
        "  print(oneDirectionMembers[i])\n",
        "\n",
        "print('And we are one direction.')"
      ]
    },
    {
      "cell_type": "code",
      "source": [
        "dog = ['small','black','loud']\n",
        "size,color,disposition = dog\n",
        "print('Size :', size)\n",
        "print('Color :' , color)\n",
        "print('Disposition :', disposition)\n",
        "\n",
        "a = 'AAA'\n",
        "b = 'BBB'\n",
        "a,b = b,a\n",
        "print('A :',a)\n",
        "print('B :',b)"
      ],
      "metadata": {
        "colab": {
          "base_uri": "https://localhost:8080/"
        },
        "id": "8TCNOT1BzxG-",
        "outputId": "3a95ee47-2126-428d-88e4-96835f4f818e"
      },
      "execution_count": 7,
      "outputs": [
        {
          "output_type": "stream",
          "name": "stdout",
          "text": [
            "Size : small\n",
            "Color : black\n",
            "Disposition : loud\n",
            "A : BBB\n",
            "B : AAA\n"
          ]
        }
      ]
    },
    {
      "cell_type": "code",
      "source": [
        "vowels = ['a','i','o']\n",
        "print(vowels.index('o'))\n",
        "\n",
        "#Append, Insert and Remove\n",
        "vowels.append('u')\n",
        "print(vowels)\n",
        "vowels.insert(1,'e')\n",
        "print(vowels)\n",
        "vowels.append('b')\n",
        "print(vowels)\n",
        "vowels.remove('b')\n",
        "print(vowels)"
      ],
      "metadata": {
        "colab": {
          "base_uri": "https://localhost:8080/"
        },
        "id": "laCc7ABb2oxl",
        "outputId": "8a0c8019-1b14-4217-f206-6ed09a5787c1"
      },
      "execution_count": 11,
      "outputs": [
        {
          "output_type": "stream",
          "name": "stdout",
          "text": [
            "2\n",
            "['a', 'i', 'o', 'u']\n",
            "['a', 'e', 'i', 'o', 'u']\n",
            "['a', 'e', 'i', 'o', 'u', 'b']\n",
            "['a', 'e', 'i', 'o', 'u']\n"
          ]
        }
      ]
    },
    {
      "cell_type": "code",
      "source": [
        "#Sort\n",
        "\n",
        "nums = [1,0,-3,4.345,100]\n",
        "print(nums)\n",
        "nums.sort()\n",
        "print(nums)\n",
        "\n",
        "#ASCIIBetical Order\n",
        "list1 = ['a','z','A','Z']\n",
        "list1.sort()\n",
        "print(list1)\n",
        "list1.sort(key = str.lower)\n",
        "print(list1)"
      ],
      "metadata": {
        "colab": {
          "base_uri": "https://localhost:8080/"
        },
        "id": "tyUHa3bi4RPP",
        "outputId": "3ee3c42c-445d-4c7f-de0f-10d66b2f1368"
      },
      "execution_count": 13,
      "outputs": [
        {
          "output_type": "stream",
          "name": "stdout",
          "text": [
            "[1, 0, -3, 4.345, 100]\n",
            "[-3, 0, 1, 4.345, 100]\n",
            "['A', 'Z', 'a', 'z']\n",
            "['A', 'a', 'Z', 'z']\n"
          ]
        }
      ]
    },
    {
      "cell_type": "code",
      "source": [
        "#Shallow and deep copy\n",
        "import copy\n",
        "nums = [1,2,3,4]\n",
        "print('Nums:', nums)\n",
        "#Shallow Copy\n",
        "\n",
        "numbers = nums\n",
        "numbers[1] =100\n",
        "print('Shallow Copy')\n",
        "print('Nums:', nums)\n",
        "print('Numbers:', numbers)\n",
        "\n",
        "#Deep Copy\n",
        "numbers_deep = copy.deepcopy(nums)\n",
        "numbers_deep[1] = 2\n",
        "print('Deep Copy')\n",
        "print('Nums:', nums)\n",
        "print('Numbers Deep Copy',numbers_deep)"
      ],
      "metadata": {
        "colab": {
          "base_uri": "https://localhost:8080/"
        },
        "id": "ISMPQ4BQ8gyb",
        "outputId": "1b6177f0-9af8-4579-8f16-e15bfd324bdd"
      },
      "execution_count": 16,
      "outputs": [
        {
          "output_type": "stream",
          "name": "stdout",
          "text": [
            "Nums: [1, 2, 3, 4]\n",
            "Shallow Copy\n",
            "Nums: [1, 100, 3, 4]\n",
            "Numbers: [1, 100, 3, 4]\n",
            "Deep Copy\n",
            "Nums: [1, 100, 3, 4]\n",
            "Numbers Deep Copy [1, 2, 3, 4]\n"
          ]
        }
      ]
    },
    {
      "cell_type": "code",
      "source": [
        "#Find ASCII value of a character\n",
        "char = 'a'\n",
        "ascii_value = ord(char)\n",
        "\n",
        "print(ascii_value)  # Output: 97"
      ],
      "metadata": {
        "colab": {
          "base_uri": "https://localhost:8080/"
        },
        "id": "ZXEMarGV-fyD",
        "outputId": "238f3c76-b46b-4126-a166-70d07c68218c"
      },
      "execution_count": 17,
      "outputs": [
        {
          "output_type": "stream",
          "name": "stdout",
          "text": [
            "97\n"
          ]
        }
      ]
    }
  ]
}