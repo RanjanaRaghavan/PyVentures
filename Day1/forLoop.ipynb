{
  "nbformat": 4,
  "nbformat_minor": 0,
  "metadata": {
    "colab": {
      "provenance": [],
      "authorship_tag": "ABX9TyNBxQ8AbIzFQ2qHvQrKrnda",
      "include_colab_link": true
    },
    "kernelspec": {
      "name": "python3",
      "display_name": "Python 3"
    },
    "language_info": {
      "name": "python"
    }
  },
  "cells": [
    {
      "cell_type": "markdown",
      "metadata": {
        "id": "view-in-github",
        "colab_type": "text"
      },
      "source": [
        "<a href=\"https://colab.research.google.com/github/RanjanaRaghavan/PyVentures/blob/main/forLoop.ipynb\" target=\"_parent\"><img src=\"https://colab.research.google.com/assets/colab-badge.svg\" alt=\"Open In Colab\"/></a>"
      ]
    },
    {
      "cell_type": "markdown",
      "source": [
        "Exploring Loops and the Range Datatype! 🔄📊\n",
        "\n",
        "This script is all about for loops and the powerful range() datatype! I explore how to loop through a sequence with different start points, end points, and step sizes. From simple iteration to skipping numbers with a step of 2, this code demonstrates how flexible loops can be in Python. It’s a step-by-step dive into iterating with ranges, helping to unlock the magic of efficient looping. 🚀🐍"
      ],
      "metadata": {
        "id": "P8rxG00HE_3s"
      }
    },
    {
      "cell_type": "markdown",
      "source": [
        "# **Range**\n",
        "\n",
        "Range is a DataType in python\n",
        "\n",
        "Syntax : Range(start,stop,step)\n",
        "\n",
        "\n",
        "*   start:Inclusive (if not specified starts from 0)\n",
        "*   stop: not inclusive\n",
        "*   step: increment or decrement value"
      ],
      "metadata": {
        "id": "WdMjmzNAE_lO"
      }
    },
    {
      "cell_type": "code",
      "execution_count": 3,
      "metadata": {
        "colab": {
          "base_uri": "https://localhost:8080/"
        },
        "id": "FdIJ5zpGDzVa",
        "outputId": "2253e39a-75ea-499e-8f8b-002565b8f38a"
      },
      "outputs": [
        {
          "output_type": "stream",
          "name": "stdout",
          "text": [
            "0\n",
            "1\n",
            "2\n",
            "3\n",
            "4\n"
          ]
        }
      ],
      "source": [
        "for i in range(5):\n",
        "  print(i)"
      ]
    },
    {
      "cell_type": "code",
      "source": [
        "for i in range(0,5):\n",
        "  print(i)"
      ],
      "metadata": {
        "colab": {
          "base_uri": "https://localhost:8080/"
        },
        "id": "-AoZx6cdF1XJ",
        "outputId": "45bc751d-4366-4638-9c1d-0e275c6f6cb9"
      },
      "execution_count": 4,
      "outputs": [
        {
          "output_type": "stream",
          "name": "stdout",
          "text": [
            "0\n",
            "1\n",
            "2\n",
            "3\n",
            "4\n"
          ]
        }
      ]
    },
    {
      "cell_type": "code",
      "source": [
        "for i in (range(0,5,2)):\n",
        "  print(i)"
      ],
      "metadata": {
        "colab": {
          "base_uri": "https://localhost:8080/"
        },
        "id": "yqZLZAF9F7lJ",
        "outputId": "c02e5175-c0d8-4ef2-f7a3-5dacc36de6bb"
      },
      "execution_count": 5,
      "outputs": [
        {
          "output_type": "stream",
          "name": "stdout",
          "text": [
            "0\n",
            "2\n",
            "4\n"
          ]
        }
      ]
    }
  ]
}
