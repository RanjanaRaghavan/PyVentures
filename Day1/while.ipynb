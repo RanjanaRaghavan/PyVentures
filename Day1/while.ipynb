{
  "nbformat": 4,
  "nbformat_minor": 0,
  "metadata": {
    "colab": {
      "provenance": [],
      "authorship_tag": "ABX9TyO9KpK7yUFwDlMw6FiOO9mM",
      "include_colab_link": true
    },
    "kernelspec": {
      "name": "python3",
      "display_name": "Python 3"
    },
    "language_info": {
      "name": "python"
    }
  },
  "cells": [
    {
      "cell_type": "markdown",
      "metadata": {
        "id": "view-in-github",
        "colab_type": "text"
      },
      "source": [
        "<a href=\"https://colab.research.google.com/github/RanjanaRaghavan/PyVentures/blob/main/while.ipynb\" target=\"_parent\"><img src=\"https://colab.research.google.com/assets/colab-badge.svg\" alt=\"Open In Colab\"/></a>"
      ]
    },
    {
      "cell_type": "markdown",
      "source": [
        "Mastering While Loops with Sheldon and the Gang! 🤓💥\n",
        "\n",
        "In this script, I dive into while loops with a Big Bang twist! The first loop tests your knowledge of Sheldon’s best friend (hint: it’s not Leonard!), followed by a fun \"Knock Knock\" sequence straight from the show. Finally, we wrap up with a guest list for a Murder Mystery Party where guests are invited—unless you’re Stuart, of course! This script demonstrates the power of loops and conditions while adding some geeky humor. Bazinga! 🚀🐍"
      ],
      "metadata": {
        "id": "7lzBk-1kDkhn"
      }
    },
    {
      "cell_type": "code",
      "execution_count": 1,
      "metadata": {
        "colab": {
          "base_uri": "https://localhost:8080/"
        },
        "id": "irzKvJrg-ICd",
        "outputId": "add28142-c177-4f32-80cf-98f526e6b7b8"
      },
      "outputs": [
        {
          "output_type": "stream",
          "name": "stdout",
          "text": [
            "Who is sheldon`s best friend?\n",
            "Howard\n",
            "Who is sheldon`s best friend?\n",
            "Raj\n",
            "Who is sheldon`s best friend?\n",
            "Penny\n",
            "Who is sheldon`s best friend?\n",
            "Leanord\n",
            "Great!!!. That is correct\n"
          ]
        }
      ],
      "source": [
        "bestFriend = ''\n",
        "while bestFriend != 'Leanord':\n",
        "  print('Who is sheldon`s best friend?')\n",
        "  bestFriend = input()\n",
        "print('Great!!!. That is correct')"
      ]
    },
    {
      "cell_type": "code",
      "source": [
        "print('Complete the sentence')\n",
        "name = ''\n",
        "while True:\n",
        "  print('Knock knock knock ?')\n",
        "  name = input()\n",
        "  if(name == 'Penny'):\n",
        "    break\n",
        "  else:\n",
        "    print('Try again')\n",
        "print('knock knock knock', name, 'it is!!!')"
      ],
      "metadata": {
        "colab": {
          "base_uri": "https://localhost:8080/"
        },
        "id": "NWaF3pJmApsD",
        "outputId": "dc34699b-86c8-40f1-ed82-93ff856a4248"
      },
      "execution_count": 4,
      "outputs": [
        {
          "output_type": "stream",
          "name": "stdout",
          "text": [
            "Complete the sentence\n",
            "Knock knock knock ?\n",
            "Amy\n",
            "Try again\n",
            "Knock knock knock ?\n",
            "Shelly\n",
            "Try again\n",
            "Knock knock knock ?\n",
            "Penny\n",
            "knock knock knock Penny it is!!!\n"
          ]
        }
      ]
    },
    {
      "cell_type": "code",
      "source": [
        "print('Raj: Guest list for Murder Mystery Party')\n",
        "guest = ''\n",
        "noOfGuest = 0\n",
        "while noOfGuest<=5:\n",
        "  print('Enter Guest name')\n",
        "  guest = input()\n",
        "  if guest == 'Stuart':\n",
        "    print(guest ,'Ignored!')\n",
        "    continue\n",
        "  else:\n",
        "    print(guest, 'invited!')\n",
        "    noOfGuest = noOfGuest+1"
      ],
      "metadata": {
        "colab": {
          "base_uri": "https://localhost:8080/"
        },
        "id": "EhH5jRaSBnyY",
        "outputId": "57dfdfa1-8e3b-4c50-caed-25e8ad9070cc"
      },
      "execution_count": 8,
      "outputs": [
        {
          "output_type": "stream",
          "name": "stdout",
          "text": [
            "Raj: Guest list for Murder Mystery Party\n",
            "Enter Guest name\n",
            "Amy\n",
            "Amy invited!\n",
            "Enter Guest name\n",
            "Sheldon\n",
            "Sheldon invited!\n",
            "Enter Guest name\n",
            "Penny\n",
            "Penny invited!\n",
            "Enter Guest name\n",
            "Leanord\n",
            "Leanord invited!\n",
            "Enter Guest name\n",
            "Stuart\n",
            "Stuart Ignored!\n",
            "Enter Guest name\n",
            "Howard\n",
            "Howard invited!\n",
            "Enter Guest name\n",
            "Bernie\n",
            "Bernie invited!\n"
          ]
        }
      ]
    }
  ]
}
