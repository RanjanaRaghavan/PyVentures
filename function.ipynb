{
  "nbformat": 4,
  "nbformat_minor": 0,
  "metadata": {
    "colab": {
      "provenance": [],
      "authorship_tag": "ABX9TyP42emtOg0KnvsJqjAZyp9R",
      "include_colab_link": true
    },
    "kernelspec": {
      "name": "python3",
      "display_name": "Python 3"
    },
    "language_info": {
      "name": "python"
    }
  },
  "cells": [
    {
      "cell_type": "markdown",
      "metadata": {
        "id": "view-in-github",
        "colab_type": "text"
      },
      "source": [
        "<a href=\"https://colab.research.google.com/github/RanjanaRaghavan/PyVentures/blob/main/function.ipynb\" target=\"_parent\"><img src=\"https://colab.research.google.com/assets/colab-badge.svg\" alt=\"Open In Colab\"/></a>"
      ]
    },
    {
      "cell_type": "markdown",
      "source": [
        "# Functions, Scopes, and Fun Games in Python! 🎲🎉🐍\n",
        "\n",
        "This script blends function magic, variable scopes, and interactive games! It kicks off with a simple greeting and a quirky Magic 8 Ball game with random, mysterious answers. It also dives into how Python handles local and global scopes, with a special look at using the global keyword. To wrap it up, there's a thrilling guessing game where you get 6 tries to guess a secret number. Along the way, I handle errors like a pro to keep the game smooth and fun. Let the coding games begin! 💡🎮✨"
      ],
      "metadata": {
        "id": "X9pnWebHuzZa"
      }
    },
    {
      "cell_type": "code",
      "execution_count": 8,
      "metadata": {
        "colab": {
          "base_uri": "https://localhost:8080/"
        },
        "id": "5tcJU2lvLVeu",
        "outputId": "45ffac73-6d2a-459a-fb39-23dba5e350a9"
      },
      "outputs": [
        {
          "output_type": "stream",
          "name": "stdout",
          "text": [
            "Hello Ranju!!!\n",
            "Your name has 5 characters.\n"
          ]
        }
      ],
      "source": [
        "def hello(name):\n",
        "  print('Hello ' + name + '!!!')\n",
        "  print('Your name has ' + str(len(name)) + ' characters.')\n",
        "\n",
        "hello('Ranju')"
      ]
    },
    {
      "cell_type": "code",
      "source": [
        "import random\n",
        "\n",
        "def magicBall(ans):\n",
        "\n",
        "  if(ans ==1):\n",
        "    return ('It is certain')\n",
        "  elif(ans ==2):\n",
        "    return ('Reply hazy, try again')\n",
        "  elif(ans ==3):\n",
        "    return ('Don’t count on it')\n",
        "  elif(ans == 4):\n",
        "    return ('It is decidedly so')\n",
        "  elif(ans == 5):\n",
        "    return ('Ask again later')\n",
        "  elif(ans == 6):\n",
        "    return ('My reply is no')\n",
        "  elif(ans == 7):\n",
        "    return ('Without a doubt!!!')\n",
        "  else:\n",
        "    return ('Outlook not so good')\n",
        "\n",
        "print('Welcome to the Magic 8 ball Game!!!')\n",
        "print('Have a question in mind?')\n",
        "ans = input()\n",
        "magicBall(random.randint(1,9))\n",
        "\n"
      ],
      "metadata": {
        "colab": {
          "base_uri": "https://localhost:8080/",
          "height": 89
        },
        "id": "HxPE6m82OFlT",
        "outputId": "57bd3c31-7ed7-4160-8da6-ad2aee6e388e"
      },
      "execution_count": 13,
      "outputs": [
        {
          "name": "stdout",
          "output_type": "stream",
          "text": [
            "Welcome to the Magic 8 ball Game!!!\n",
            "Have a question in mind?\n",
            "Will i master Python?\n"
          ]
        },
        {
          "output_type": "execute_result",
          "data": {
            "text/plain": [
              "'It is certain'"
            ],
            "application/vnd.google.colaboratory.intrinsic+json": {
              "type": "string"
            }
          },
          "metadata": {},
          "execution_count": 13
        }
      ]
    },
    {
      "cell_type": "markdown",
      "source": [
        "# Global and Local Variable"
      ],
      "metadata": {
        "id": "MrzIFoaCcK53"
      }
    },
    {
      "cell_type": "code",
      "source": [
        "name = 'Ranjana'\n",
        "\n",
        "def localScopeFunc():\n",
        "  name = 'Ranju'\n",
        "  print('Local Scope:',name)\n",
        "\n",
        "def globalScopeFunc():\n",
        "  print('Global Scope:',name)\n",
        "\n",
        "def localScopeFuncWithGlobalKeyword():\n",
        "  global name\n",
        "  name = 'Ju'\n",
        "  print('Value of `Name` inside Function:',name)\n",
        "\n",
        "localScopeFunc()\n",
        "globalScopeFunc()\n",
        "localScopeFuncWithGlobalKeyword()\n",
        "\n",
        "print('Value of `Name` in the Global Scope',name)\n"
      ],
      "metadata": {
        "colab": {
          "base_uri": "https://localhost:8080/"
        },
        "id": "oSk6BOXTcOnX",
        "outputId": "29dbbf9e-287c-4c56-c8eb-93ee990139dd"
      },
      "execution_count": 19,
      "outputs": [
        {
          "output_type": "stream",
          "name": "stdout",
          "text": [
            "Local Scope: Ranju\n",
            "Global Scope: Ranjana\n",
            "Value of `Name` inside Function: Ju\n",
            "Value of `Name` in the Global Scope Ju\n"
          ]
        }
      ]
    },
    {
      "cell_type": "markdown",
      "source": [
        "# Try / Except"
      ],
      "metadata": {
        "id": "MrbGB6pegG9I"
      }
    },
    {
      "cell_type": "code",
      "source": [
        "def judgeSwiftie(noOfCats):\n",
        "  try:\n",
        "    if int(noOfCats) >=4:\n",
        "      print('Angela from office, is this you?')\n",
        "    else:\n",
        "      print('You are a proud cat mom!!!')\n",
        "  except ValueError:\n",
        "    print('Umm.. Please enter a Number')\n",
        "\n",
        "print('Hey there swiftie , how many cats do you have?')\n",
        "noOfCats = input()\n",
        "judgeSwiftie(noOfCats)"
      ],
      "metadata": {
        "colab": {
          "base_uri": "https://localhost:8080/"
        },
        "id": "b8cnQGDhgNmj",
        "outputId": "b5ca50ad-bf97-442d-aeae-fe139ba0f86c"
      },
      "execution_count": 22,
      "outputs": [
        {
          "output_type": "stream",
          "name": "stdout",
          "text": [
            "Hey there swiftie , how many cats do you have?\n",
            "6\n",
            "Angela from office, is this you?\n"
          ]
        }
      ]
    },
    {
      "cell_type": "code",
      "source": [
        "import random\n",
        "\n",
        "def playGame(name):\n",
        "  print('Well',name,'I am thinking of a number between 1 and 10')\n",
        "  secretNumber = random.randint(1,10)\n",
        "  print('Guess!!!')\n",
        "  for i in range(0,6):\n",
        "    try:\n",
        "      guess = int(input())\n",
        "      if guess == secretNumber:\n",
        "        return f'Great Job {name} You guessed my number in {str(i+1)} guesses.'\n",
        "      elif guess > secretNumber:\n",
        "        print('oooh!! Too high try lower.')\n",
        "      else:\n",
        "        print('Well, thats too low try higher')\n",
        "    except ValueError:\n",
        "      print('Error: Please input numbers only')\n",
        "\n",
        "  print('Sorry the number was', secretNumber,'Better luck next time')\n",
        "\n",
        "\n",
        "\n",
        "print('Hello there!!!, What is your name?')\n",
        "name = input()\n",
        "print('Cool! Lets play `Guess the Number`game')\n",
        "print('You get 6 guesses')\n",
        "playGame(name)\n",
        "\n",
        "\n"
      ],
      "metadata": {
        "colab": {
          "base_uri": "https://localhost:8080/",
          "height": 303
        },
        "id": "oE1bnYxdhik8",
        "outputId": "b1e24983-01ef-43f6-f89a-6fdfff2566bd"
      },
      "execution_count": 44,
      "outputs": [
        {
          "name": "stdout",
          "output_type": "stream",
          "text": [
            "Hello there!!!, What is your name?\n",
            "Ju\n",
            "Cool! Lets play `Guess the Number`game\n",
            "You get 6 guesses\n",
            "Well Ju I am thinking of a number between 1 and 10\n",
            "Guess!!!\n",
            "5\n",
            "Well, thats too low try higher\n",
            "Six\n",
            "Error: Please input numbers only\n",
            "6\n",
            "Well, thats too low try higher\n",
            "8\n",
            "Well, thats too low try higher\n",
            "9\n"
          ]
        },
        {
          "output_type": "execute_result",
          "data": {
            "text/plain": [
              "'Great Job Ju You guessed my number in 5 guesses.'"
            ],
            "application/vnd.google.colaboratory.intrinsic+json": {
              "type": "string"
            }
          },
          "metadata": {},
          "execution_count": 44
        }
      ]
    },
    {
      "cell_type": "code",
      "source": [],
      "metadata": {
        "id": "_P1ppSmRs__P"
      },
      "execution_count": null,
      "outputs": []
    }
  ]
}