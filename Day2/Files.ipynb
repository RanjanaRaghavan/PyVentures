{
  "nbformat": 4,
  "nbformat_minor": 0,
  "metadata": {
    "colab": {
      "provenance": [],
      "authorship_tag": "ABX9TyM9iHln45g1BIdIYS3nWi9o",
      "include_colab_link": true
    },
    "kernelspec": {
      "name": "python3",
      "display_name": "Python 3"
    },
    "language_info": {
      "name": "python"
    }
  },
  "cells": [
    {
      "cell_type": "markdown",
      "metadata": {
        "id": "view-in-github",
        "colab_type": "text"
      },
      "source": [
        "<a href=\"https://colab.research.google.com/github/RanjanaRaghavan/PyVentures/blob/main/Day2/Files.ipynb\" target=\"_parent\"><img src=\"https://colab.research.google.com/assets/colab-badge.svg\" alt=\"Open In Colab\"/></a>"
      ]
    },
    {
      "cell_type": "markdown",
      "source": [
        "# File Handling in Python 📂✍️📜\n",
        "\n",
        "Dive into the world of file management with Python! Whether it's reading, writing, appending, or managing files, Python's libraries make it simple and efficient. This script demonstrates the creation and modification of files, utilizing modules like os, shutil, and shelve for advanced file handling. From writing your first line of text to copying and deleting files, Python provides all the tools to manage your data seamlessly. Get ready to manipulate your files like a pro!"
      ],
      "metadata": {
        "id": "xO1FVVuhgxHf"
      }
    },
    {
      "cell_type": "code",
      "execution_count": 1,
      "metadata": {
        "colab": {
          "base_uri": "https://localhost:8080/",
          "height": 35
        },
        "id": "_S3iJFjFHqZi",
        "outputId": "1d94de55-b06c-4b64-f613-a15dee9a08cb"
      },
      "outputs": [
        {
          "output_type": "execute_result",
          "data": {
            "text/plain": [
              "'/content'"
            ],
            "application/vnd.google.colaboratory.intrinsic+json": {
              "type": "string"
            }
          },
          "metadata": {},
          "execution_count": 1
        }
      ],
      "source": [
        "import os\n",
        "os.getcwd()"
      ]
    },
    {
      "cell_type": "code",
      "source": [
        "theSpot = os.path.join('MainFolder','SubFolder','filename.extension')\n",
        "print(theSpot)"
      ],
      "metadata": {
        "colab": {
          "base_uri": "https://localhost:8080/"
        },
        "id": "EJSVKZxlI45c",
        "outputId": "9c856eb2-9970-4a3b-b04f-880e11360bbc"
      },
      "execution_count": 22,
      "outputs": [
        {
          "output_type": "stream",
          "name": "stdout",
          "text": [
            "MainFolder/SubFolder/filename.extension\n"
          ]
        }
      ]
    },
    {
      "cell_type": "code",
      "source": [
        "#Open a File to read and write\n",
        "writeFile = open('/content/sample_data/test.txt','w')\n",
        "writeFile.write('Hellooo California!!!')\n",
        "writeFile.close()\n",
        "\n",
        "readFile = open('/content/sample_data/test.txt')\n",
        "content = readFile.read()\n",
        "print(content)\n",
        "readFile.close()"
      ],
      "metadata": {
        "colab": {
          "base_uri": "https://localhost:8080/"
        },
        "id": "HFGYSWmGOpMY",
        "outputId": "dae181ec-c806-4724-9bb7-15ccda5a0d14"
      },
      "execution_count": 9,
      "outputs": [
        {
          "output_type": "stream",
          "name": "stdout",
          "text": [
            "Hellooo California!!!\n"
          ]
        }
      ]
    },
    {
      "cell_type": "code",
      "source": [
        "#Append to a file\n",
        "appendFile = open('/content/sample_data/test.txt','a')\n",
        "appendFile.write('Goood Morning!!!')\n",
        "appendFile.close()"
      ],
      "metadata": {
        "id": "U5knWEWlPsw7"
      },
      "execution_count": 10,
      "outputs": []
    },
    {
      "cell_type": "code",
      "source": [
        "#Using shelve Module\n",
        "\n",
        "import shelve\n",
        "\n",
        "shelfFile = open('/content/sample_data/california_housing_test.csv')\n",
        "content = shelfFile.read()\n",
        "print(content[1])\n",
        "shelfFile.close()"
      ],
      "metadata": {
        "colab": {
          "base_uri": "https://localhost:8080/"
        },
        "id": "uXAHdDqXQEJz",
        "outputId": "0a56ec31-a806-4a1f-e2f6-73dd81d57b41"
      },
      "execution_count": 19,
      "outputs": [
        {
          "output_type": "stream",
          "name": "stdout",
          "text": [
            "l\n"
          ]
        }
      ]
    },
    {
      "cell_type": "code",
      "source": [
        "#Copy a File\n",
        "import shutil\n",
        "\n",
        "shutil.copy('/content/sample_data/test.txt','/content/sample_data/test1.txt')"
      ],
      "metadata": {
        "colab": {
          "base_uri": "https://localhost:8080/",
          "height": 35
        },
        "id": "QnnlT-9WR5Gp",
        "outputId": "f4e57e53-12ae-451c-ef9f-7d9d54eae04b"
      },
      "execution_count": 20,
      "outputs": [
        {
          "output_type": "execute_result",
          "data": {
            "text/plain": [
              "'/content/sample_data/test1.txt'"
            ],
            "application/vnd.google.colaboratory.intrinsic+json": {
              "type": "string"
            }
          },
          "metadata": {},
          "execution_count": 20
        }
      ]
    },
    {
      "cell_type": "code",
      "source": [
        "#Delete a File\n",
        "import os\n",
        "\n",
        "os.unlink('/content/sample_data/test1.txt')"
      ],
      "metadata": {
        "id": "HA0uGvHrSHOR"
      },
      "execution_count": 21,
      "outputs": []
    }
  ]
}