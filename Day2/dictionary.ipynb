{
  "nbformat": 4,
  "nbformat_minor": 0,
  "metadata": {
    "colab": {
      "provenance": [],
      "authorship_tag": "ABX9TyMUyLXVpkYbSzPqT3T1IZkY",
      "include_colab_link": true
    },
    "kernelspec": {
      "name": "python3",
      "display_name": "Python 3"
    },
    "language_info": {
      "name": "python"
    }
  },
  "cells": [
    {
      "cell_type": "markdown",
      "metadata": {
        "id": "view-in-github",
        "colab_type": "text"
      },
      "source": [
        "<a href=\"https://colab.research.google.com/github/RanjanaRaghavan/PyVentures/blob/main/Day2/dictionary.ipynb\" target=\"_parent\"><img src=\"https://colab.research.google.com/assets/colab-badge.svg\" alt=\"Open In Colab\"/></a>"
      ]
    },
    {
      "cell_type": "markdown",
      "source": [
        "\n",
        "# The Office Chronicles: Mastering Python Dictionaries 🗂️🏡\n",
        "\n",
        "Step into the chaotic yet lovable world of Dunder Mifflin as we explore Python dictionaries! From Michael Scott’s managerial wisdom to Kevin’s iconic one-liners, this code takes us on a hilarious journey while showcasing essential dictionary operations like adding, updating, deleting, and fetching data. It’s not just a lesson in Python—it’s a tribute to \"The Office\"! 🎩📜"
      ],
      "metadata": {
        "id": "HamAyL783eG-"
      }
    },
    {
      "cell_type": "code",
      "execution_count": 7,
      "metadata": {
        "colab": {
          "base_uri": "https://localhost:8080/"
        },
        "id": "xcQAPkswrKFZ",
        "outputId": "04496ec8-90c0-4544-a959-729ef825ebee"
      },
      "outputs": [
        {
          "output_type": "stream",
          "name": "stdout",
          "text": [
            "{'Accounting': 'Angela Martin',\n",
            " 'Assistant_to_the_manager': 'Dwight Schrute',\n",
            " 'Customer Service': 'Kelly Kapoor',\n",
            " 'HR': 'Toby',\n",
            " 'Manager': 'Micheal Scott',\n",
            " 'QA': 'Creed',\n",
            " 'Sales': 'Jim Halpert'}\n",
            "Micheal Scott\n"
          ]
        }
      ],
      "source": [
        "import pprint\n",
        "dict = {\n",
        "        'Manager':'Micheal Scott',\n",
        "        'Assistant_to_the_manager':'Dwight Schrute',\n",
        "        'Sales':'Jim Halpert',\n",
        "        'Accounting':'Angela Martin',\n",
        "        'QA':'Creed',\n",
        "        'Customer Service':'Kelly Kapoor',\n",
        "        'HR':'Toby'\n",
        "        }\n",
        "pprint.pprint(dict)\n",
        "\n",
        "print(dict['Manager'])"
      ]
    },
    {
      "cell_type": "code",
      "source": [
        "# Set Default and change value\n",
        "\n",
        "dict.setdefault('Temp','Ryan')\n",
        "print(dict['Temp'])\n",
        "\n",
        "dict['Sales'] = ['Jim Halpert','Stanley Hudson','Dwight Schrute','Andy Bernard','Phyllis Vance']\n",
        "print(dict['Sales'])\n",
        "\n",
        "dict['Accounting'] = ['Angela Martin','Oscar Martinez','Kevin Malone']\n",
        "print(dict['Accounting'])\n",
        "\n",
        "\n"
      ],
      "metadata": {
        "colab": {
          "base_uri": "https://localhost:8080/"
        },
        "id": "uURSaGZTxiB4",
        "outputId": "f1842f30-fd30-4e9b-9b5a-cf51d12a1bff"
      },
      "execution_count": 24,
      "outputs": [
        {
          "output_type": "stream",
          "name": "stdout",
          "text": [
            "Ryan\n",
            "['Jim Halpert', 'Stanley Hudson', 'Dwight Schrute', 'Andy Bernard', 'Phyllis Vance']\n",
            "['Angela Martin', 'Oscar Martinez', 'Kevin Malone']\n",
            "Ryan\n"
          ]
        }
      ]
    },
    {
      "cell_type": "code",
      "source": [
        "#Count number of letters used by Kevin\n",
        "kevin = 'Me think, why waste time say lot word, when few word do trick. when me president they see. they see.'\n",
        "count = {}\n",
        "for char in kevin.lower():\n",
        "  if(ord(char) >=97 and ord(char)<=123):\n",
        "    count.setdefault(char,0)\n",
        "    count[char] = count[char] +1\n",
        "\n",
        "print(count)\n"
      ],
      "metadata": {
        "colab": {
          "base_uri": "https://localhost:8080/"
        },
        "id": "PUJhD3V0y1dX",
        "outputId": "b80f643b-4ff1-4c55-d99d-f4fb98ef8425"
      },
      "execution_count": 26,
      "outputs": [
        {
          "output_type": "stream",
          "name": "stdout",
          "text": [
            "{'m': 3, 'e': 15, 't': 8, 'h': 6, 'i': 4, 'n': 4, 'k': 2, 'w': 7, 'y': 4, 'a': 2, 's': 5, 'l': 1, 'o': 4, 'r': 4, 'd': 4, 'f': 1, 'c': 1, 'p': 1}\n",
            "Ryan\n"
          ]
        }
      ]
    },
    {
      "cell_type": "code",
      "source": [
        "#Deleting and Fetching Items\n",
        "print(dict['Temp'])\n",
        "del dict['Temp']\n",
        "pprint.pprint(dict)\n",
        "\n",
        "dict['Temp'] = 'Ryan Howard'\n",
        "print(dict['Temp'])\n",
        "\n",
        "\n",
        "print('Who works at Sabre?',dict.get('Sabre','Gabe'))\n",
        "dict['Sabre'] = 'Jo Bennet'\n",
        "print('Who works at Sabre?',dict.get('Sabre','Gabe'))\n"
      ],
      "metadata": {
        "colab": {
          "base_uri": "https://localhost:8080/"
        },
        "id": "RTneQffu04Aj",
        "outputId": "214631e3-1643-45b1-d3bd-d206ad5243aa"
      },
      "execution_count": 31,
      "outputs": [
        {
          "output_type": "stream",
          "name": "stdout",
          "text": [
            "Ryan Howard\n",
            "{'Accounting': ['Angela Martin', 'Oscar Martinez', 'Kevin Malone'],\n",
            " 'Assistant_to_the_manager': 'Dwight Schrute',\n",
            " 'Customer Service': 'Kelly Kapoor',\n",
            " 'HR': 'Toby',\n",
            " 'Manager': 'Micheal Scott',\n",
            " 'QA': 'Creed',\n",
            " 'Sales': ['Jim Halpert',\n",
            "           'Stanley Hudson',\n",
            "           'Dwight Schrute',\n",
            "           'Andy Bernard',\n",
            "           'Phyllis Vance']}\n",
            "Ryan Howard\n",
            "Who works at Sabre? Gabe\n",
            "Who works at Sabre? Jo Bennet\n"
          ]
        }
      ]
    }
  ]
}