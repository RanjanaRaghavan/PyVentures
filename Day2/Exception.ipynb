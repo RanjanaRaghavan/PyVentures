{
  "nbformat": 4,
  "nbformat_minor": 0,
  "metadata": {
    "colab": {
      "provenance": [],
      "authorship_tag": "ABX9TyP4ChzKVl6/9rs5hhPZayY/",
      "include_colab_link": true
    },
    "kernelspec": {
      "name": "python3",
      "display_name": "Python 3"
    },
    "language_info": {
      "name": "python"
    }
  },
  "cells": [
    {
      "cell_type": "markdown",
      "metadata": {
        "id": "view-in-github",
        "colab_type": "text"
      },
      "source": [
        "<a href=\"https://colab.research.google.com/github/RanjanaRaghavan/PyVentures/blob/main/Day2/Exception.ipynb\" target=\"_parent\"><img src=\"https://colab.research.google.com/assets/colab-badge.svg\" alt=\"Open In Colab\"/></a>"
      ]
    },
    {
      "cell_type": "markdown",
      "source": [
        "# Handling Exceptions, Assertions, and Logging in Python 🚨📝\n",
        "\n",
        "In this script, Python's robust error-handling capabilities shine through! It begins by demonstrating how to raise custom exceptions and log them to a file, helping you track issues in your code. Next, it showcases the use of assertions, a handy way to ensure certain conditions are met in your code (in this case, ensuring the color 'red' exists in the dictionary). Lastly, we explore Python's logging module, where various log levels (DEBUG, INFO, WARNING, ERROR, and CRITICAL) are used to record different types of messages. This makes tracking your code's behavior and debugging a breeze!"
      ],
      "metadata": {
        "id": "AkDHMqPLnw-N"
      }
    },
    {
      "cell_type": "code",
      "execution_count": 2,
      "metadata": {
        "id": "0AiLJHHopzes",
        "colab": {
          "base_uri": "https://localhost:8080/"
        },
        "outputId": "ffbfce48-c306-4a03-e83d-f9383ed88b1a"
      },
      "outputs": [
        {
          "output_type": "stream",
          "name": "stdout",
          "text": [
            "The traceback info was written in error_log.txt\n"
          ]
        }
      ],
      "source": [
        "#Raise Exception\n",
        "import os\n",
        "import traceback\n",
        "\n",
        "try:\n",
        "  raise Exception('This is a Test Exception created by JU')\n",
        "except:\n",
        "  errorFile = open('error_log.txt','a')\n",
        "  errorFile.write(traceback.format_exc())\n",
        "  errorFile.close()\n",
        "  print('The traceback info was written in error_log.txt')"
      ]
    },
    {
      "cell_type": "code",
      "source": [
        "#Assertion\n",
        "lights={'ns':'green','ew':'yellow'}\n",
        "assert 'red' in lights,'red is not in lights'"
      ],
      "metadata": {
        "colab": {
          "base_uri": "https://localhost:8080/",
          "height": 180
        },
        "id": "SsC65BgWkPF3",
        "outputId": "c1308c7f-b054-42f7-aafa-ffa05056b986"
      },
      "execution_count": 4,
      "outputs": [
        {
          "output_type": "error",
          "ename": "AssertionError",
          "evalue": "red is not in lights",
          "traceback": [
            "\u001b[0;31m---------------------------------------------------------------------------\u001b[0m",
            "\u001b[0;31mAssertionError\u001b[0m                            Traceback (most recent call last)",
            "\u001b[0;32m<ipython-input-4-ae25a1916494>\u001b[0m in \u001b[0;36m<cell line: 0>\u001b[0;34m()\u001b[0m\n\u001b[1;32m      1\u001b[0m \u001b[0;31m#Assertion\u001b[0m\u001b[0;34m\u001b[0m\u001b[0;34m\u001b[0m\u001b[0m\n\u001b[1;32m      2\u001b[0m \u001b[0mlights\u001b[0m\u001b[0;34m=\u001b[0m\u001b[0;34m{\u001b[0m\u001b[0;34m'ns'\u001b[0m\u001b[0;34m:\u001b[0m\u001b[0;34m'green'\u001b[0m\u001b[0;34m,\u001b[0m\u001b[0;34m'ew'\u001b[0m\u001b[0;34m:\u001b[0m\u001b[0;34m'yellow'\u001b[0m\u001b[0;34m}\u001b[0m\u001b[0;34m\u001b[0m\u001b[0;34m\u001b[0m\u001b[0m\n\u001b[0;32m----> 3\u001b[0;31m \u001b[0;32massert\u001b[0m \u001b[0;34m'red'\u001b[0m \u001b[0;32min\u001b[0m \u001b[0mlights\u001b[0m\u001b[0;34m,\u001b[0m\u001b[0;34m'red is not in lights'\u001b[0m\u001b[0;34m\u001b[0m\u001b[0;34m\u001b[0m\u001b[0m\n\u001b[0m",
            "\u001b[0;31mAssertionError\u001b[0m: red is not in lights"
          ]
        }
      ]
    },
    {
      "cell_type": "code",
      "source": [
        "#Logging\n",
        "import logging\n",
        "logging.basicConfig(filename='log.txt',level=logging.DEBUG,format='%(asctime)s - %(levelname)s - %(message)s')\n",
        "\n",
        "def logMessages():\n",
        "  logging.debug('This is a debug message')\n",
        "  logging.info('This is an info message')\n",
        "  logging.warning('This is a warning message')\n",
        "  logging.error('This is an error message')\n",
        "  logging.critical('This is a critical message')"
      ],
      "metadata": {
        "id": "ejqXJrN8kn0n"
      },
      "execution_count": 9,
      "outputs": []
    }
  ]
}