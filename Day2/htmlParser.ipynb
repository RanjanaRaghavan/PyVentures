{
  "nbformat": 4,
  "nbformat_minor": 0,
  "metadata": {
    "colab": {
      "provenance": [],
      "authorship_tag": "ABX9TyNNEE/ObxN1dcKj2cdFGpzB",
      "include_colab_link": true
    },
    "kernelspec": {
      "name": "python3",
      "display_name": "Python 3"
    },
    "language_info": {
      "name": "python"
    }
  },
  "cells": [
    {
      "cell_type": "markdown",
      "metadata": {
        "id": "view-in-github",
        "colab_type": "text"
      },
      "source": [
        "<a href=\"https://colab.research.google.com/github/RanjanaRaghavan/PyVentures/blob/main/Day2/htmlParser.ipynb\" target=\"_parent\"><img src=\"https://colab.research.google.com/assets/colab-badge.svg\" alt=\"Open In Colab\"/></a>"
      ]
    },
    {
      "cell_type": "markdown",
      "source": [
        "#Web Scraping & Data Handling 📊🌐\n",
        "\n",
        "This code brings together web scraping and data manipulation! First, it extracts the title of a Wikipedia article using BeautifulSoup by scraping the h1 element with the id firstHeading. In this case, it fetches the title of the Interstellar film article. Next, the script handles data from a CSV file using pandas. It converts the median_income column to numeric values, filling any errors with -1. Finally, it sorts the DataFrame based on the median_income column in ascending order, which could be useful for tasks like analyzing income distribution or sorting by specific criteria."
      ],
      "metadata": {
        "id": "x0I-ITkd2Ded"
      }
    },
    {
      "cell_type": "code",
      "execution_count": 10,
      "metadata": {
        "colab": {
          "base_uri": "https://localhost:8080/"
        },
        "id": "bHdSDkyQoNrI",
        "outputId": "be531688-a8f3-4fdb-eec6-1dffcfcd9f9c"
      },
      "outputs": [
        {
          "output_type": "stream",
          "name": "stdout",
          "text": [
            "The title is: Interstellar (film)\n"
          ]
        }
      ],
      "source": [
        "import bs4, requests\n",
        "\n",
        "def getWikipediaTitle(articleUrl):\n",
        "    res = requests.get(articleUrl)\n",
        "    res.raise_for_status()\n",
        "\n",
        "    soup = bs4.BeautifulSoup(res.text, \"html.parser\")\n",
        "\n",
        "    # Find the title element using its id\n",
        "    titleElem = soup.find('h1', id='firstHeading')\n",
        "\n",
        "    if titleElem:\n",
        "        return titleElem.text.strip()\n",
        "    else:\n",
        "        return \"Title not found\"\n",
        "\n",
        "title = getWikipediaTitle('https://en.wikipedia.org/wiki/Interstellar_(film)')\n",
        "print('The title is: ' + title)"
      ]
    },
    {
      "cell_type": "code",
      "source": [
        "import pandas as pd\n",
        "import math\n",
        "\n",
        "# Read CSV data into a DataFrame\n",
        "df = pd.read_csv('/content/sample_data/california_housing_test.csv')\n",
        "\n",
        "# Check for Age and set default value as -1\n",
        "df['median_income'] = pd.to_numeric(df['median_income'], errors='coerce').fillna(-1)\n",
        "\n",
        "\n",
        "# Sort the DataFrame by 'age' column in ascending order\n",
        "df_sorted = df.sort_values(by='median_income', ascending=True)  # Set ascending=False for descending order\n",
        "\n",
        "# Display the sorted DataFrame\n",
        "print(\"\\nSorted DataFrame:\")\n",
        "print(df_sorted)\n"
      ],
      "metadata": {
        "colab": {
          "base_uri": "https://localhost:8080/"
        },
        "id": "UMdkKfiixoOg",
        "outputId": "5e9da6b5-69da-4e8f-c237-925bcb870197"
      },
      "execution_count": 11,
      "outputs": [
        {
          "output_type": "stream",
          "name": "stdout",
          "text": [
            "\n",
            "Sorted DataFrame:\n",
            "      longitude  latitude  housing_median_age  total_rooms  total_bedrooms  \\\n",
            "185     -118.28     34.02                29.0        515.0           229.0   \n",
            "2640    -114.62     33.62                26.0         18.0             3.0   \n",
            "2879    -121.84     38.02                46.0         66.0            22.0   \n",
            "641     -121.04     37.67                16.0         19.0            19.0   \n",
            "2841    -118.27     33.96                38.0       1126.0           270.0   \n",
            "...         ...       ...                 ...          ...             ...   \n",
            "2583    -118.41     34.09                37.0       2716.0           302.0   \n",
            "42      -118.06     34.15                37.0       1980.0           226.0   \n",
            "2199    -118.20     34.19                38.0       2176.0           266.0   \n",
            "1383    -118.37     34.10                37.0        407.0            67.0   \n",
            "161     -117.85     33.62                13.0       5192.0           658.0   \n",
            "\n",
            "      population  households  median_income  median_house_value  \n",
            "185       2690.0       217.0         0.4999            500001.0  \n",
            "2640         5.0         3.0         0.5360            275000.0  \n",
            "2879        37.0        21.0         0.5360             87500.0  \n",
            "641        166.0         9.0         0.5360            162500.0  \n",
            "2841       999.0       265.0         0.5495             91700.0  \n",
            "...          ...         ...            ...                 ...  \n",
            "2583       809.0       291.0        15.0001            500001.0  \n",
            "42         697.0       226.0        15.0001            500001.0  \n",
            "2199       798.0       243.0        15.0001            500001.0  \n",
            "1383       100.0        47.0        15.0001            500001.0  \n",
            "161       1865.0       662.0        15.0001            500001.0  \n",
            "\n",
            "[3000 rows x 9 columns]\n"
          ]
        }
      ]
    }
  ]
}