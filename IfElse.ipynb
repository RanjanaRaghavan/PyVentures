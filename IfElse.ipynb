{
  "nbformat": 4,
  "nbformat_minor": 0,
  "metadata": {
    "colab": {
      "provenance": [],
      "authorship_tag": "ABX9TyNVCfWTxVqlquCXakgnIhB5",
      "include_colab_link": true
    },
    "kernelspec": {
      "name": "python3",
      "display_name": "Python 3"
    },
    "language_info": {
      "name": "python"
    }
  },
  "cells": [
    {
      "cell_type": "markdown",
      "metadata": {
        "id": "view-in-github",
        "colab_type": "text"
      },
      "source": [
        "<a href=\"https://colab.research.google.com/github/RanjanaRaghavan/PyVentures/blob/main/IfElse.ipynb\" target=\"_parent\"><img src=\"https://colab.research.google.com/assets/colab-badge.svg\" alt=\"Open In Colab\"/></a>"
      ]
    },
    {
      "cell_type": "markdown",
      "source": [
        "Magical Access and Hogwarts Greetings! 🪄🐍\n",
        "Step into the wizarding world with this fun Python script! It starts with a password check to grant access and then takes a detour into Hogwarts. Depending on your house, you'll be greeted by Draco, Hermione, Cedric, or Cho. A dash of interaction and some Hogwarts charm make this script a delightful adventure in conditional logic and user inputs. Accio fun! 🚀✨"
      ],
      "metadata": {
        "id": "oDdkml7-9jQG"
      }
    },
    {
      "cell_type": "code",
      "execution_count": 2,
      "metadata": {
        "colab": {
          "base_uri": "https://localhost:8080/"
        },
        "id": "a9JJj74_6Dqc",
        "outputId": "d0e8fc89-e6b0-4c23-d205-c1bc7ac31d80"
      },
      "outputs": [
        {
          "output_type": "stream",
          "name": "stdout",
          "text": [
            "Access Denied.\n"
          ]
        }
      ],
      "source": [
        "password = 'Draco'\n",
        "if password == 'Dramione':\n",
        "  print('Access Granted!')\n",
        "else:\n",
        "  print('Access Denied.')"
      ]
    },
    {
      "cell_type": "code",
      "source": [
        "house = 'Slytherin'\n",
        "if house == 'Gryffindor':\n",
        "  print('Hi Hermione!!!')\n",
        "elif house == 'Slytherin':\n",
        "  print('How ya doin Draco!!!')\n",
        "elif house == 'HufflePuff':\n",
        "  print('Howdy Cedric!!!')\n",
        "else:\n",
        "  print('Hey Cho!!!')"
      ],
      "metadata": {
        "colab": {
          "base_uri": "https://localhost:8080/"
        },
        "id": "SZC2eL6H7YRD",
        "outputId": "bc75e5e6-0562-4fc1-8cd1-fd8f7cef0c67"
      },
      "execution_count": 5,
      "outputs": [
        {
          "output_type": "stream",
          "name": "stdout",
          "text": [
            "How ya doin Draco!!!\n"
          ]
        }
      ]
    },
    {
      "cell_type": "code",
      "source": [
        "print('Who opened the chamber of secrets?')\n",
        "name = input()\n",
        "if name:\n",
        "  print('Ooooh!!!. Thanks for letting me know.')\n",
        "else:\n",
        "  print('I understand if you don`t wanna share')"
      ],
      "metadata": {
        "colab": {
          "base_uri": "https://localhost:8080/"
        },
        "id": "BZAnydfv8Ep6",
        "outputId": "7b498c05-e846-4fbf-bc9e-ecfb1b063bdb"
      },
      "execution_count": 10,
      "outputs": [
        {
          "output_type": "stream",
          "name": "stdout",
          "text": [
            "Who opened the chamber of secrets?\n",
            "Tom Riddle\n",
            "Ooooh!!!. Thanks for letting me know.\n"
          ]
        }
      ]
    }
  ]
}